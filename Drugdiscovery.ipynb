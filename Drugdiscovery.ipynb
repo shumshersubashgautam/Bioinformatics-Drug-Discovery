{
  "nbformat": 4,
  "nbformat_minor": 0,
  "metadata": {
    "colab": {
      "provenance": [],
      "authorship_tag": "ABX9TyPauawUoplkU/n9C94xqFVn",
      "include_colab_link": true
    },
    "kernelspec": {
      "name": "python3",
      "display_name": "Python 3"
    },
    "language_info": {
      "name": "python"
    }
  },
  "cells": [
    {
      "cell_type": "markdown",
      "metadata": {
        "id": "view-in-github",
        "colab_type": "text"
      },
      "source": [
        "<a href=\"https://colab.research.google.com/github/shumshersubashgautam/Bioinformatics-Drug-Discovery/blob/main/Drugdiscovery.ipynb\" target=\"_parent\"><img src=\"https://colab.research.google.com/assets/colab-badge.svg\" alt=\"Open In Colab\"/></a>"
      ]
    },
    {
      "cell_type": "code",
      "metadata": {
        "colab": {
          "base_uri": "https://localhost:8080/"
        },
        "id": "wO2asoov3Fka",
        "outputId": "53c25d77-0b97-404a-c3cf-c3e5b06fe39a"
      },
      "source": [
        "!pip install condacolab\n",
        "import condacolab\n",
        "condacolab.install()"
      ],
      "execution_count": null,
      "outputs": [
        {
          "output_type": "stream",
          "text": [
            "Collecting condacolab\n",
            "  Downloading condacolab-0.1.3-py3-none-any.whl (6.8 kB)\n",
            "Installing collected packages: condacolab\n",
            "Successfully installed condacolab-0.1.3\n",
            "⏬ Downloading https://github.com/jaimergp/miniforge/releases/latest/download/Mambaforge-colab-Linux-x86_64.sh...\n",
            "📦 Installing...\n",
            "📌 Adjusting configuration...\n",
            "🩹 Patching environment...\n",
            "⏲ Done in 0:00:48\n",
            "🔁 Restarting kernel...\n"
          ],
          "name": "stdout"
        }
      ]
    },
    {
      "cell_type": "code",
      "metadata": {
        "colab": {
          "base_uri": "https://localhost:8080/"
        },
        "id": "6VTmz0Um3V7w",
        "outputId": "090ef44b-e9d5-47ad-e80e-de82f5249422"
      },
      "source": [
        "!mamba install -yq rdkit\n"
      ],
      "execution_count": null,
      "outputs": [
        {
          "output_type": "stream",
          "text": [
            "  Package               Version  Build                Channel                    Size\n",
            "───────────────────────────────────────────────────────────────────────────────────────\n",
            "  Install:\n",
            "───────────────────────────────────────────────────────────────────────────────────────\n",
            "\n",
            "\u001b[32m  boost             \u001b[00m     1.74.0  py37h6dcda5c_3       conda-forge/linux-64     342 KB\n",
            "\u001b[32m  boost-cpp         \u001b[00m     1.74.0  hc6e9bd1_3           conda-forge/linux-64      16 MB\n",
            "\u001b[32m  cairo             \u001b[00m     1.16.0  h6cf1ce9_1008        conda-forge/linux-64       1 MB\n",
            "\u001b[32m  cycler            \u001b[00m     0.10.0  py_2                 conda-forge/noarch         9 KB\n",
            "\u001b[32m  fontconfig        \u001b[00m     2.13.1  hba837de_1005        conda-forge/linux-64     357 KB\n",
            "\u001b[32m  freetype          \u001b[00m     2.10.4  h0708190_1           conda-forge/linux-64     890 KB\n",
            "\u001b[32m  gettext           \u001b[00m   0.19.8.1  h0b5b191_1005        conda-forge/linux-64       4 MB\n",
            "\u001b[32m  greenlet          \u001b[00m      1.1.0  py37hcd2ae1e_0       conda-forge/linux-64      83 KB\n",
            "\u001b[32m  importlib-metadata\u001b[00m      4.6.4  py37h89c1867_0       conda-forge/linux-64      31 KB\n",
            "\u001b[32m  jpeg              \u001b[00m         9d  h516909a_0           conda-forge/linux-64     266 KB\n",
            "\u001b[32m  kiwisolver        \u001b[00m      1.3.1  py37h2527ec5_1       conda-forge/linux-64      78 KB\n",
            "\u001b[32m  lcms2             \u001b[00m       2.12  hddcbb42_0           conda-forge/linux-64     443 KB\n",
            "\u001b[32m  libblas           \u001b[00m      3.9.0  11_linux64_openblas  conda-forge/linux-64      12 KB\n",
            "\u001b[32m  libcblas          \u001b[00m      3.9.0  11_linux64_openblas  conda-forge/linux-64      11 KB\n",
            "\u001b[32m  libgfortran-ng    \u001b[00m     11.1.0  h69a702a_8           conda-forge/linux-64      19 KB\n",
            "\u001b[32m  libgfortran5      \u001b[00m     11.1.0  h6c583b3_8           conda-forge/linux-64       2 MB\n",
            "\u001b[32m  libglib           \u001b[00m     2.68.3  h3e27bee_0           conda-forge/linux-64       3 MB\n",
            "\u001b[32m  liblapack         \u001b[00m      3.9.0  11_linux64_openblas  conda-forge/linux-64      11 KB\n",
            "\u001b[32m  libopenblas       \u001b[00m     0.3.17  pthreads_h8fe5266_1  conda-forge/linux-64       9 MB\n",
            "\u001b[32m  libpng            \u001b[00m     1.6.37  hed695b0_2           conda-forge/linux-64     359 KB\n",
            "\u001b[32m  libtiff           \u001b[00m      4.2.0  hbd63e13_2           conda-forge/linux-64     639 KB\n",
            "\u001b[32m  libuuid           \u001b[00m     2.32.1  h14c3975_1000        conda-forge/linux-64      26 KB\n",
            "\u001b[32m  libwebp-base      \u001b[00m      1.2.1  h7f98852_0           conda-forge/linux-64     845 KB\n",
            "\u001b[32m  libxcb            \u001b[00m       1.13  h7f98852_1003        conda-forge/linux-64     395 KB\n",
            "\u001b[32m  matplotlib-base   \u001b[00m      3.4.2  py37hdd32ed1_0       conda-forge/linux-64       7 MB\n",
            "\u001b[32m  numpy             \u001b[00m     1.21.2  py37h31617e3_0       conda-forge/linux-64       6 MB\n",
            "\u001b[32m  olefile           \u001b[00m       0.46  pyh9f0ad1d_1         conda-forge/noarch        32 KB\n",
            "\u001b[32m  openjpeg          \u001b[00m      2.4.0  hb52868f_1           conda-forge/linux-64     444 KB\n",
            "\u001b[32m  pandas            \u001b[00m      1.3.1  py37h219a48f_0       conda-forge/linux-64      13 MB\n",
            "\u001b[32m  pcre              \u001b[00m       8.45  h9c3ff4c_0           conda-forge/linux-64     253 KB\n",
            "\u001b[32m  pillow            \u001b[00m      8.2.0  py37h4600e1f_1       conda-forge/linux-64     684 KB\n",
            "\u001b[32m  pixman            \u001b[00m     0.40.0  h36c2ea0_0           conda-forge/linux-64     627 KB\n",
            "\u001b[32m  pthread-stubs     \u001b[00m        0.4  h36c2ea0_1001        conda-forge/linux-64       5 KB\n",
            "\u001b[32m  pycairo           \u001b[00m     1.20.1  py37hfff247e_0       conda-forge/linux-64      77 KB\n",
            "\u001b[32m  pyparsing         \u001b[00m      2.4.7  pyh9f0ad1d_0         conda-forge/noarch        60 KB\n",
            "\u001b[32m  python-dateutil   \u001b[00m      2.8.2  pyhd8ed1ab_0         conda-forge/noarch       240 KB\n",
            "\u001b[32m  pytz              \u001b[00m     2021.1  pyhd8ed1ab_0         conda-forge/noarch       239 KB\n",
            "\u001b[32m  rdkit             \u001b[00m  2021.03.4  py37haf5a968_0       conda-forge/linux-64      38 MB\n",
            "\u001b[32m  reportlab         \u001b[00m     3.5.68  py37h69800bb_0       conda-forge/linux-64       2 MB\n",
            "\u001b[32m  sqlalchemy        \u001b[00m     1.4.23  py37h5e8e339_0       conda-forge/linux-64       2 MB\n",
            "\u001b[32m  tornado           \u001b[00m        6.1  py37h5e8e339_1       conda-forge/linux-64     646 KB\n",
            "\u001b[32m  typing_extensions \u001b[00m   3.10.0.0  pyha770c72_0         conda-forge/noarch        28 KB\n",
            "\u001b[32m  xorg-kbproto      \u001b[00m      1.0.7  h14c3975_1002        conda-forge/linux-64      26 KB\n",
            "\u001b[32m  xorg-libice       \u001b[00m     1.0.10  h516909a_0           conda-forge/linux-64      57 KB\n",
            "\u001b[32m  xorg-libsm        \u001b[00m      1.2.3  hd9c2040_1000        conda-forge/linux-64      26 KB\n",
            "\u001b[32m  xorg-libx11       \u001b[00m      1.7.2  h7f98852_0           conda-forge/linux-64     941 KB\n",
            "\u001b[32m  xorg-libxau       \u001b[00m      1.0.9  h14c3975_0           conda-forge/linux-64      13 KB\n",
            "\u001b[32m  xorg-libxdmcp     \u001b[00m      1.1.3  h516909a_0           conda-forge/linux-64      18 KB\n",
            "\u001b[32m  xorg-libxext      \u001b[00m      1.3.4  h7f98852_1           conda-forge/linux-64      54 KB\n",
            "\u001b[32m  xorg-libxrender   \u001b[00m     0.9.10  h7f98852_1003        conda-forge/linux-64      32 KB\n",
            "\u001b[32m  xorg-renderproto  \u001b[00m     0.11.1  h14c3975_1002        conda-forge/linux-64       8 KB\n",
            "\u001b[32m  xorg-xextproto    \u001b[00m      7.3.0  h14c3975_1002        conda-forge/linux-64      27 KB\n",
            "\u001b[32m  xorg-xproto       \u001b[00m     7.0.31  h14c3975_1007        conda-forge/linux-64      72 KB\n",
            "\u001b[32m  zipp              \u001b[00m      3.5.0  pyhd8ed1ab_0         conda-forge/noarch        12 KB\n",
            "\n",
            "  Upgrade:\n",
            "───────────────────────────────────────────────────────────────────────────────────────\n",
            "\n",
            "\u001b[31m  ca-certificates   \u001b[00m  2020.12.5  ha878542_0           installed                      \n",
            "\u001b[32m  ca-certificates   \u001b[00m  2021.5.30  ha878542_0           conda-forge/linux-64     136 KB\n",
            "\u001b[31m  certifi           \u001b[00m  2020.12.5  py37h89c1867_1       installed                      \n",
            "\u001b[32m  certifi           \u001b[00m  2021.5.30  py37h89c1867_0       conda-forge/linux-64     141 KB\n",
            "\u001b[31m  libgcc-ng         \u001b[00m      9.3.0  h2828fa1_18          installed                      \n",
            "\u001b[32m  libgcc-ng         \u001b[00m     11.1.0  hc902ee8_8           conda-forge/linux-64     908 KB\n",
            "\u001b[31m  libgomp           \u001b[00m      9.3.0  h2828fa1_18          installed                      \n",
            "\u001b[32m  libgomp           \u001b[00m     11.1.0  hc902ee8_8           conda-forge/linux-64     427 KB\n",
            "\u001b[31m  openssl           \u001b[00m     1.1.1j  h7f98852_0           installed                      \n",
            "\u001b[32m  openssl           \u001b[00m     1.1.1k  h7f98852_1           conda-forge/linux-64       2 MB\n",
            "\n",
            "  Summary:\n",
            "\n",
            "  Install: 54 packages\n",
            "  Upgrade: 5 packages\n",
            "\n",
            "  Total download: 117 MB\n",
            "\n",
            "───────────────────────────────────────────────────────────────────────────────────────\n",
            "\n",
            "Preparing transaction: ...working... done\n",
            "Verifying transaction: ...working... done\n",
            "Executing transaction: ...working... done\n"
          ],
          "name": "stdout"
        }
      ]
    },
    {
      "cell_type": "code",
      "metadata": {
        "id": "KS2bQm4q3tEf"
      },
      "source": [
        "#data handling\n",
        "import numpy as np\n",
        "import pandas as pd\n",
        "\n",
        "# chemistry\n",
        "from rdkit import Chem\n",
        "from rdkit.Chem import MACCSkeys\n",
        "from rdkit.Chem.Draw import IPythonConsole, rdMolDraw2D\n",
        "\n",
        "# machine learning\n",
        "from sklearn.svm import SVC\n",
        "from sklearn.metrics import roc_curve, roc_auc_score\n",
        "from sklearn.model_selection import train_test_split\n",
        "\n",
        "# plotting\n",
        "import matplotlib.pyplot as plt"
      ],
      "execution_count": null,
      "outputs": []
    },
    {
      "cell_type": "code",
      "metadata": {
        "id": "4PoVD76W4Uya",
        "colab": {
          "base_uri": "https://localhost:8080/"
        },
        "outputId": "5d22f0c0-d468-4f4d-fb56-e4ae210802db"
      },
      "source": [
        "# Read activity data for EGFR into a pandas dataframe named df\n",
        "egfr_chembl25_link = '/content/ai_in_medicine/data/egfr_chembl25.csv'\n",
        "#################### <-- insert code below\n",
        "df = pd.read_csv ('/content/ai_in_medicine/data/egfr_chembl25.csv')\n",
        "print(df)\n",
        "\n",
        "#################### <-- insert code above"
      ],
      "execution_count": null,
      "outputs": [
        {
          "output_type": "stream",
          "text": [
            "          chembl_id  ...  IC50[nM]\n",
            "0      CHEMBL207869  ...     77.00\n",
            "1     CHEMBL3940060  ...    330.00\n",
            "2     CHEMBL3678951  ...      1.00\n",
            "3      CHEMBL504034  ...     40.00\n",
            "4      CHEMBL158797  ...  43000.01\n",
            "...             ...  ...       ...\n",
            "4904    CHEMBL94061  ...      0.22\n",
            "4905    CHEMBL94123  ...    215.00\n",
            "4906    CHEMBL94275  ...   1000.00\n",
            "4907    CHEMBL95320  ...    850.00\n",
            "4908    CHEMBL98798  ...   7600.00\n",
            "\n",
            "[4909 rows x 3 columns]\n"
          ],
          "name": "stdout"
        }
      ]
    },
    {
      "cell_type": "code",
      "metadata": {
        "colab": {
          "base_uri": "https://localhost:8080/"
        },
        "id": "65vdKZ4S7e91",
        "outputId": "3cc11c40-2668-4d5c-c8a3-f35f24499c7b"
      },
      "source": [
        "!git clone https://github.com/volkamerlab/ai_in_medicine.git"
      ],
      "execution_count": null,
      "outputs": [
        {
          "output_type": "stream",
          "text": [
            "Cloning into 'ai_in_medicine'...\n",
            "remote: Enumerating objects: 553, done.\u001b[K\n",
            "remote: Counting objects: 100% (159/159), done.\u001b[K\n",
            "remote: Compressing objects: 100% (124/124), done.\u001b[K\n",
            "remote: Total 553 (delta 86), reused 98 (delta 35), pack-reused 394\u001b[K\n",
            "Receiving objects: 100% (553/553), 65.76 MiB | 31.79 MiB/s, done.\n",
            "Resolving deltas: 100% (247/247), done.\n"
          ],
          "name": "stdout"
        }
      ]
    },
    {
      "cell_type": "code",
      "metadata": {
        "colab": {
          "base_uri": "https://localhost:8080/",
          "height": 184
        },
        "id": "wiqAW0ye5kry",
        "outputId": "ed27a089-5185-428a-dfa6-45139fa4a770"
      },
      "source": [
        "# pick the first SMILES stored in the dataframe and display the molecule with RDKit\n",
        "print(df['smiles'][0])\n",
        "mol = Chem.MolFromSmiles(df['smiles'][0])\n",
        "mol"
      ],
      "execution_count": null,
      "outputs": [
        {
          "output_type": "stream",
          "text": [
            "Clc1c(OCc2cc(F)ccc2)ccc(Nc2c(C#Cc3ncccn3)cncn2)c1\n"
          ],
          "name": "stdout"
        },
        {
          "output_type": "execute_result",
          "data": {
            "image/png": "[encoded data removed]",
            "text/plain": [
              "<rdkit.Chem.rdchem.Mol at 0x7f777a06a3f0>"
            ]
          },
          "metadata": {},
          "execution_count": 16
        }
      ]
    },
    {
      "cell_type": "code",
      "metadata": {
        "id": "Ct_NL7JM5v_E",
        "colab": {
          "base_uri": "https://localhost:8080/"
        },
        "outputId": "9d46ed8a-f272-43ba-e5e1-50a6b6693dc3"
      },
      "source": [
        "maccs_keys = list(MACCSkeys.GenMACCSKeys(mol))\n",
        "print(maccs_keys)\n",
        "print('Zeros:', len(maccs_keys) - sum(maccs_keys))\n",
        "print('Ones:', sum(maccs_keys))"
      ],
      "execution_count": null,
      "outputs": [
        {
          "output_type": "stream",
          "text": [
            "[0, 0, 0, 0, 0, 0, 0, 0, 0, 0, 0, 0, 0, 0, 0, 0, 0, 1, 0, 0, 0, 0, 0, 0, 0, 0, 0, 0, 0, 0, 0, 0, 0, 0, 0, 0, 0, 0, 1, 0, 0, 0, 1, 0, 0, 0, 0, 0, 0, 0, 0, 0, 0, 0, 0, 0, 0, 0, 0, 0, 0, 0, 0, 0, 0, 1, 0, 0, 0, 0, 0, 0, 0, 0, 0, 0, 0, 1, 0, 0, 1, 0, 0, 0, 0, 0, 0, 1, 0, 0, 0, 0, 0, 0, 0, 0, 0, 0, 1, 0, 0, 0, 0, 1, 0, 0, 0, 1, 0, 1, 0, 0, 0, 1, 0, 0, 0, 0, 0, 0, 1, 1, 0, 0, 0, 1, 1, 1, 0, 0, 0, 0, 0, 1, 1, 1, 0, 1, 0, 0, 0, 0, 1, 1, 1, 1, 0, 0, 0, 0, 1, 1, 1, 1, 0, 1, 1, 1, 1, 0, 0, 1, 1, 1, 1, 1, 0]\n",
            "Zeros: 129\n",
            "Ones: 38\n"
          ],
          "name": "stdout"
        }
      ]
    },
    {
      "cell_type": "code",
      "metadata": {
        "colab": {
          "base_uri": "https://localhost:8080/"
        },
        "id": "M2MUPp0J82yp",
        "outputId": "2aeb2855-0091-415b-de08-4b96a0ec6bb5"
      },
      "source": [
        "# Get indices of ones\n",
        "maccs_key_series = pd.Series(maccs_keys)\n",
        "maccs_key_series[maccs_key_series==1].index"
      ],
      "execution_count": null,
      "outputs": [
        {
          "output_type": "execute_result",
          "data": {
            "text/plain": [
              "Int64Index([ 17,  38,  42,  65,  77,  80,  87,  98, 103, 107, 109, 113, 120,\n",
              "            121, 125, 126, 127, 133, 134, 135, 137, 142, 143, 144, 145, 150,\n",
              "            151, 152, 153, 155, 156, 157, 158, 161, 162, 163, 164, 165],\n",
              "           dtype='int64')"
            ]
          },
          "metadata": {},
          "execution_count": 18
        }
      ]
    },
    {
      "cell_type": "code",
      "metadata": {
        "colab": {
          "base_uri": "https://localhost:8080/",
          "height": 35
        },
        "id": "qa0sAxdR8_iZ",
        "outputId": "15909619-0e7c-4fdf-f704-3d7994608b51"
      },
      "source": [
        "pwd"
      ],
      "execution_count": null,
      "outputs": [
        {
          "output_type": "execute_result",
          "data": {
            "application/vnd.google.colaboratory.intrinsic+json": {
              "type": "string"
            },
            "text/plain": [
              "'/content'"
            ]
          },
          "metadata": {},
          "execution_count": 19
        }
      ]
    },
    {
      "cell_type": "code",
      "metadata": {
        "colab": {
          "base_uri": "https://localhost:8080/"
        },
        "id": "Ye-qseHX-Hk1",
        "outputId": "8eeae879-686e-4aa7-c6bd-9b4a93323f03"
      },
      "source": [
        "!git clone https://github.com/volkamerlab/teachopencadd.git"
      ],
      "execution_count": null,
      "outputs": [
        {
          "output_type": "stream",
          "text": [
            "Cloning into 'teachopencadd'...\n",
            "remote: Enumerating objects: 6493, done.\u001b[K\n",
            "remote: Counting objects: 100% (1142/1142), done.\u001b[K\n",
            "remote: Compressing objects: 100% (483/483), done.\u001b[K\n",
            "remote: Total 6493 (delta 727), reused 1040 (delta 647), pack-reused 5351\u001b[K\n",
            "Receiving objects: 100% (6493/6493), 503.55 MiB | 27.97 MiB/s, done.\n",
            "Resolving deltas: 100% (3998/3998), done.\n"
          ],
          "name": "stdout"
        }
      ]
    },
    {
      "cell_type": "code",
      "metadata": {
        "colab": {
          "base_uri": "https://localhost:8080/"
        },
        "id": "-c3k9Ur2-iqP",
        "outputId": "dd9374c9-b961-4278-f759-e0c17249b79e"
      },
      "source": [
        "cd /content/teachopencadd/teachopencadd/talktorials/T002_compound_adme"
      ],
      "execution_count": null,
      "outputs": [
        {
          "output_type": "stream",
          "text": [
            "/content/teachopencadd/teachopencadd/talktorials/T002_compound_adme\n"
          ],
          "name": "stdout"
        }
      ]
    },
    {
      "cell_type": "code",
      "metadata": {
        "id": "E2o98H2W-1gm"
      },
      "source": [
        "from pathlib import Path\n",
        "import math\n",
        "\n",
        "import numpy as np\n",
        "import pandas as pd\n",
        "import matplotlib.pyplot as plt\n",
        "from matplotlib.lines import Line2D\n",
        "import matplotlib.patches as mpatches\n",
        "from rdkit import Chem\n",
        "from rdkit.Chem import Descriptors, Draw, PandasTools"
      ],
      "execution_count": null,
      "outputs": []
    },
    {
      "cell_type": "code",
      "metadata": {
        "id": "I6fOrmA3--IL"
      },
      "source": [
        "# Set path to this notebook\n",
        "HERE = Path(_dh[-1])\n",
        "DATA = HERE / \"data\""
      ],
      "execution_count": null,
      "outputs": []
    },
    {
      "cell_type": "code",
      "metadata": {
        "id": "ZY0UxrIJ_Gx-"
      },
      "source": [
        "smiles = [\n",
        "    \"CCC1C(=O)N(CC(=O)N(C(C(=O)NC(C(=O)N(C(C(=O)NC(C(=O)NC(C(=O)N(C(C(=O)N(C(C(=O)N(C(C(=O)N(C(C(=O)N1)C(C(C)CC=CC)O)C)C(C)C)C)CC(C)C)C)CC(C)C)C)C)C)CC(C)C)C)C(C)C)CC(C)C)C)C\",\n",
        "    \"CN1CCN(CC1)C2=C3C=CC=CC3=NC4=C(N2)C=C(C=C4)C\",\n",
        "    \"CC1=C(C(CCC1)(C)C)C=CC(=CC=CC(=CC=CC=C(C)C=CC=C(C)C=CC2=C(CCCC2(C)C)C)C)C\",\n",
        "    \"CCCCCC1=CC(=C(C(=C1)O)C2C=C(CCC2C(=C)C)C)O\",\n",
        "]\n",
        "names = [\"cyclosporine\", \"clozapine\", \"beta-carotene\", \"cannabidiol\"]"
      ],
      "execution_count": null,
      "outputs": []
    },
    {
      "cell_type": "code",
      "metadata": {
        "colab": {
          "base_uri": "https://localhost:8080/",
          "height": 921
        },
        "id": "XXr0rXGp_QQr",
        "outputId": "46f060cc-d78e-4e3b-d148-10d28f68cf06"
      },
      "source": [
        "molecules = pd.DataFrame({\"name\": names, \"smiles\": smiles})\n",
        "PandasTools.AddMoleculeColumnToFrame(molecules, \"smiles\")\n",
        "molecules"
      ],
      "execution_count": null,
      "outputs": [
        {
          "output_type": "execute_result",
          "data": {
            "text/html": [
              "<div>\n",
              "<style scoped>\n",
              "    .dataframe tbody tr th:only-of-type {\n",
              "        vertical-align: middle;\n",
              "    }\n",
              "\n",
              "    .dataframe tbody tr th {\n",
              "        vertical-align: top;\n",
              "    }\n",
              "\n",
              "    .dataframe thead th {\n",
              "        text-align: right;\n",
              "    }\n",
              "</style>\n",
              "<table border=\"1\" class=\"dataframe\">\n",
              "  <thead>\n",
              "    <tr style=\"text-align: right;\">\n",
              "      <th></th>\n",
              "      <th>name</th>\n",
              "      <th>smiles</th>\n",
              "      <th>ROMol</th>\n",
              "    </tr>\n",
              "  </thead>\n",
              "  <tbody>\n",
              "    <tr>\n",
              "      <th>0</th>\n",
              "      <td>cyclosporine</td>\n",
              "      <td>CCC1C(=O)N(CC(=O)N(C(C(=O)NC(C(=O)N(C(C(=O)NC(...</td>\n",
              "      <td><img data-content=\"rdkit/molecule\" src=\"data:image/png;base64,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\" alt=\"Mol\"/></td>\n",
              "    </tr>\n",
              "    <tr>\n",
              "      <th>1</th>\n",
              "      <td>clozapine</td>\n",
              "      <td>CN1CCN(CC1)C2=C3C=CC=CC3=NC4=C(N2)C=C(C=C4)C</td>\n",
              "      <td><img data-content=\"rdkit/molecule\" src=\"data:image/png;base64,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\" alt=\"Mol\"/></td>\n",
              "    </tr>\n",
              "    <tr>\n",
              "      <th>2</th>\n",
              "      <td>beta-carotene</td>\n",
              "      <td>CC1=C(C(CCC1)(C)C)C=CC(=CC=CC(=CC=CC=C(C)C=CC=...</td>\n",
              "      <td><img data-content=\"rdkit/molecule\" src=\"data:image/png;base64,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\" alt=\"Mol\"/></td>\n",
              "    </tr>\n",
              "    <tr>\n",
              "      <th>3</th>\n",
              "      <td>cannabidiol</td>\n",
              "      <td>CCCCCC1=CC(=C(C(=C1)O)C2C=C(CCC2C(=C)C)C)O</td>\n",
              "      <td><img data-content=\"rdkit/molecule\" src=\"data:image/png;base64,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\" alt=\"Mol\"/></td>\n",
              "    </tr>\n",
              "  </tbody>\n",
              "</table>\n",
              "</div>"
            ],
            "text/plain": [
              "            name  ...                                              ROMol\n",
              "0   cyclosporine  ...  <img data-content=\"rdkit/molecule\" src=\"data:i...\n",
              "1      clozapine  ...  <img data-content=\"rdkit/molecule\" src=\"data:i...\n",
              "2  beta-carotene  ...  <img data-content=\"rdkit/molecule\" src=\"data:i...\n",
              "3    cannabidiol  ...  <img data-content=\"rdkit/molecule\" src=\"data:i...\n",
              "\n",
              "[4 rows x 3 columns]"
            ]
          },
          "metadata": {},
          "execution_count": 25
        }
      ]
    },
    {
      "cell_type": "code",
      "metadata": {
        "colab": {
          "base_uri": "https://localhost:8080/",
          "height": 172
        },
        "id": "V8UUVPun_Vb2",
        "outputId": "a58ccded-4eb2-4fbd-e6f7-aeb4ee9216dc"
      },
      "source": [
        "molecules[\"molecular_weight\"] = molecules[\"ROMol\"].apply(Descriptors.ExactMolWt)\n",
        "molecules[\"n_hba\"] = molecules[\"ROMol\"].apply(Descriptors.NumHAcceptors)\n",
        "molecules[\"n_hbd\"] = molecules[\"ROMol\"].apply(Descriptors.NumHDonors)\n",
        "molecules[\"logp\"] = molecules[\"ROMol\"].apply(Descriptors.MolLogP)\n",
        "# Colors are used for plotting the molecules later\n",
        "molecules[\"color\"] = [\"red\", \"green\", \"blue\", \"cyan\"]\n",
        "# NBVAL_CHECK_OUTPUT\n",
        "molecules[[\"molecular_weight\", \"n_hba\", \"n_hbd\", \"logp\"]]"
      ],
      "execution_count": null,
      "outputs": [
        {
          "output_type": "execute_result",
          "data": {
            "text/html": [
              "<div>\n",
              "<style scoped>\n",
              "    .dataframe tbody tr th:only-of-type {\n",
              "        vertical-align: middle;\n",
              "    }\n",
              "\n",
              "    .dataframe tbody tr th {\n",
              "        vertical-align: top;\n",
              "    }\n",
              "\n",
              "    .dataframe thead th {\n",
              "        text-align: right;\n",
              "    }\n",
              "</style>\n",
              "<table border=\"1\" class=\"dataframe\">\n",
              "  <thead>\n",
              "    <tr style=\"text-align: right;\">\n",
              "      <th></th>\n",
              "      <th>molecular_weight</th>\n",
              "      <th>n_hba</th>\n",
              "      <th>n_hbd</th>\n",
              "      <th>logp</th>\n",
              "    </tr>\n",
              "  </thead>\n",
              "  <tbody>\n",
              "    <tr>\n",
              "      <th>0</th>\n",
              "      <td>1201.841368</td>\n",
              "      <td>12</td>\n",
              "      <td>5</td>\n",
              "      <td>3.26900</td>\n",
              "    </tr>\n",
              "    <tr>\n",
              "      <th>1</th>\n",
              "      <td>306.184447</td>\n",
              "      <td>4</td>\n",
              "      <td>1</td>\n",
              "      <td>1.68492</td>\n",
              "    </tr>\n",
              "    <tr>\n",
              "      <th>2</th>\n",
              "      <td>536.438202</td>\n",
              "      <td>0</td>\n",
              "      <td>0</td>\n",
              "      <td>12.60580</td>\n",
              "    </tr>\n",
              "    <tr>\n",
              "      <th>3</th>\n",
              "      <td>314.224580</td>\n",
              "      <td>2</td>\n",
              "      <td>2</td>\n",
              "      <td>5.84650</td>\n",
              "    </tr>\n",
              "  </tbody>\n",
              "</table>\n",
              "</div>"
            ],
            "text/plain": [
              "   molecular_weight  n_hba  n_hbd      logp\n",
              "0       1201.841368     12      5   3.26900\n",
              "1        306.184447      4      1   1.68492\n",
              "2        536.438202      0      0  12.60580\n",
              "3        314.224580      2      2   5.84650"
            ]
          },
          "metadata": {},
          "execution_count": 26
        }
      ]
    },
    {
      "cell_type": "code",
      "metadata": {
        "colab": {
          "base_uri": "https://localhost:8080/",
          "height": 921
        },
        "id": "oz8BSvZEALp7",
        "outputId": "548c229f-1585-42a3-eea2-14bc89d8497a"
      },
      "source": [
        "# Full preview\n",
        "molecules"
      ],
      "execution_count": null,
      "outputs": [
        {
          "output_type": "execute_result",
          "data": {
            "text/html": [
              "<div>\n",
              "<style scoped>\n",
              "    .dataframe tbody tr th:only-of-type {\n",
              "        vertical-align: middle;\n",
              "    }\n",
              "\n",
              "    .dataframe tbody tr th {\n",
              "        vertical-align: top;\n",
              "    }\n",
              "\n",
              "    .dataframe thead th {\n",
              "        text-align: right;\n",
              "    }\n",
              "</style>\n",
              "<table border=\"1\" class=\"dataframe\">\n",
              "  <thead>\n",
              "    <tr style=\"text-align: right;\">\n",
              "      <th></th>\n",
              "      <th>name</th>\n",
              "      <th>smiles</th>\n",
              "      <th>ROMol</th>\n",
              "      <th>molecular_weight</th>\n",
              "      <th>n_hba</th>\n",
              "      <th>n_hbd</th>\n",
              "      <th>logp</th>\n",
              "      <th>color</th>\n",
              "    </tr>\n",
              "  </thead>\n",
              "  <tbody>\n",
              "    <tr>\n",
              "      <th>0</th>\n",
              "      <td>cyclosporine</td>\n",
              "      <td>CCC1C(=O)N(CC(=O)N(C(C(=O)NC(C(=O)N(C(C(=O)NC(...</td>\n",
              "      <td><img data-content=\"rdkit/molecule\" src=\"data:image/png;base64,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\" alt=\"Mol\"/></td>\n",
              "      <td>1201.841368</td>\n",
              "      <td>12</td>\n",
              "      <td>5</td>\n",
              "      <td>3.26900</td>\n",
              "      <td>red</td>\n",
              "    </tr>\n",
              "    <tr>\n",
              "      <th>1</th>\n",
              "      <td>clozapine</td>\n",
              "      <td>CN1CCN(CC1)C2=C3C=CC=CC3=NC4=C(N2)C=C(C=C4)C</td>\n",
              "      <td><img data-content=\"rdkit/molecule\" src=\"data:image/png;base64,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\" alt=\"Mol\"/></td>\n",
              "      <td>306.184447</td>\n",
              "      <td>4</td>\n",
              "      <td>1</td>\n",
              "      <td>1.68492</td>\n",
              "      <td>green</td>\n",
              "    </tr>\n",
              "    <tr>\n",
              "      <th>2</th>\n",
              "      <td>beta-carotene</td>\n",
              "      <td>CC1=C(C(CCC1)(C)C)C=CC(=CC=CC(=CC=CC=C(C)C=CC=...</td>\n",
              "      <td><img data-content=\"rdkit/molecule\" src=\"data:image/png;base64,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\" alt=\"Mol\"/></td>\n",
              "      <td>536.438202</td>\n",
              "      <td>0</td>\n",
              "      <td>0</td>\n",
              "      <td>12.60580</td>\n",
              "      <td>blue</td>\n",
              "    </tr>\n",
              "    <tr>\n",
              "      <th>3</th>\n",
              "      <td>cannabidiol</td>\n",
              "      <td>CCCCCC1=CC(=C(C(=C1)O)C2C=C(CCC2C(=C)C)C)O</td>\n",
              "      <td><img data-content=\"rdkit/molecule\" src=\"data:image/png;base64,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\" alt=\"Mol\"/></td>\n",
              "      <td>314.224580</td>\n",
              "      <td>2</td>\n",
              "      <td>2</td>\n",
              "      <td>5.84650</td>\n",
              "      <td>cyan</td>\n",
              "    </tr>\n",
              "  </tbody>\n",
              "</table>\n",
              "</div>"
            ],
            "text/plain": [
              "            name  ...  color\n",
              "0   cyclosporine  ...    red\n",
              "1      clozapine  ...  green\n",
              "2  beta-carotene  ...   blue\n",
              "3    cannabidiol  ...   cyan\n",
              "\n",
              "[4 rows x 8 columns]"
            ]
          },
          "metadata": {},
          "execution_count": 27
        }
      ]
    },
    {
      "cell_type": "code",
      "metadata": {
        "id": "fRDCmfLhAV4T"
      },
      "source": [
        "ro5_properties = {\n",
        "    \"molecular_weight\": (500, \"molecular weight (Da)\"),\n",
        "    \"n_hba\": (10, \"# HBA\"),\n",
        "    \"n_hbd\": (5, \"# HBD\"),\n",
        "    \"logp\": (5, \"logP\"),\n",
        "}"
      ],
      "execution_count": null,
      "outputs": []
    },
    {
      "cell_type": "code",
      "metadata": {
        "colab": {
          "base_uri": "https://localhost:8080/",
          "height": 151
        },
        "id": "4uo4auFDA0Xw",
        "outputId": "3c3d99f9-ffbe-4988-d04d-c3ee8e6f1b0a"
      },
      "source": [
        "# Start 1x4 plot frame\n",
        "fig, axes = plt.subplots(figsize=(10, 2.5), nrows=1, ncols=4)\n",
        "x = np.arange(1, len(molecules) + 1)\n",
        "colors = [\"red\", \"green\", \"blue\", \"cyan\"]\n",
        "\n",
        "# Create subplots\n",
        "for index, (key, (threshold, title)) in enumerate(ro5_properties.items()):\n",
        "    axes[index].bar([1, 2, 3, 4], molecules[key], color=colors)\n",
        "    axes[index].axhline(y=threshold, color=\"black\", linestyle=\"dashed\")\n",
        "    axes[index].set_title(title)\n",
        "    axes[index].set_xticks([])\n",
        "\n",
        "# Add legend\n",
        "legend_elements = [\n",
        "    mpatches.Patch(color=row[\"color\"], label=row[\"name\"]) for index, row in molecules.iterrows()\n",
        "]\n",
        "legend_elements.append(Line2D([0], [0], color=\"black\", ls=\"dashed\", label=\"Threshold\"))\n",
        "fig.legend(handles=legend_elements, bbox_to_anchor=(1.2, 0.8))\n",
        "\n",
        "# Fit subplots and legend into figure\n",
        "plt.tight_layout()\n",
        "plt.show()"
      ],
      "execution_count": null,
      "outputs": [
        {
          "output_type": "display_data",
          "data": {
            "image/png": "[encoded data removed]",
            "text/plain": [
              "<Figure size 720x180 with 4 Axes>"
            ]
          },
          "metadata": {
            "needs_background": "light"
          }
        }
      ]
    },
    {
      "cell_type": "code",
      "metadata": {
        "id": "TEeV4VEiA6z6"
      },
      "source": [
        "def calculate_ro5_properties(smiles):\n",
        "    \"\"\"\n",
        "    Test if input molecule (SMILES) fulfills Lipinski's rule of five.\n",
        "\n",
        "    Parameters\n",
        "    ----------\n",
        "    smiles : str\n",
        "        SMILES for a molecule.\n",
        "\n",
        "    Returns\n",
        "    -------\n",
        "    pandas.Series\n",
        "        Molecular weight, number of hydrogen bond acceptors/donor and logP value\n",
        "        and Lipinski's rule of five compliance for input molecule.\n",
        "    \"\"\"\n",
        "    # RDKit molecule from SMILES\n",
        "    molecule = Chem.MolFromSmiles(smiles)\n",
        "    # Calculate Ro5-relevant chemical properties\n",
        "    molecular_weight = Descriptors.ExactMolWt(molecule)\n",
        "    n_hba = Descriptors.NumHAcceptors(molecule)\n",
        "    n_hbd = Descriptors.NumHDonors(molecule)\n",
        "    logp = Descriptors.MolLogP(molecule)\n",
        "    # Check if Ro5 conditions fulfilled\n",
        "    conditions = [molecular_weight <= 500, n_hba <= 10, n_hbd <= 5, logp <= 5]\n",
        "    ro5_fulfilled = sum(conditions) >= 3\n",
        "    # Return True if no more than one out of four conditions is violated\n",
        "    return pd.Series(\n",
        "        [molecular_weight, n_hba, n_hbd, logp, ro5_fulfilled],\n",
        "        index=[\"molecular_weight\", \"n_hba\", \"n_hbd\", \"logp\", \"ro5_fulfilled\"],\n",
        "    )"
      ],
      "execution_count": null,
      "outputs": []
    },
    {
      "cell_type": "code",
      "metadata": {
        "colab": {
          "base_uri": "https://localhost:8080/"
        },
        "id": "-dnbvjyiBM80",
        "outputId": "ba37e1ab-6e99-43a8-e5f6-6537a8cce573"
      },
      "source": [
        "# NBVAL_CHECK_OUTPUT\n",
        "for name, smiles in zip(molecules[\"name\"], molecules[\"smiles\"]):\n",
        "    print(f\"Ro5 fulfilled for {name}: {calculate_ro5_properties(smiles)['ro5_fulfilled']}\")"
      ],
      "execution_count": null,
      "outputs": [
        {
          "output_type": "stream",
          "text": [
            "Ro5 fulfilled for cyclosporine: False\n",
            "Ro5 fulfilled for clozapine: True\n",
            "Ro5 fulfilled for beta-carotene: False\n",
            "Ro5 fulfilled for cannabidiol: True\n"
          ],
          "name": "stdout"
        }
      ]
    },
    {
      "cell_type": "code",
      "metadata": {
        "colab": {
          "base_uri": "https://localhost:8080/",
          "height": 220
        },
        "id": "6h-1LvPnBkdG",
        "outputId": "89bee6b7-95d6-4f1c-e696-8794bb447a97"
      },
      "source": [
        "molecules = pd.read_csv(HERE / \"../T001_query_chembl/data/EGFR_compounds.csv\", index_col=0)\n",
        "print(molecules.shape)\n",
        "molecules.head()"
      ],
      "execution_count": null,
      "outputs": [
        {
          "output_type": "stream",
          "text": [
            "(5444, 5)\n"
          ],
          "name": "stdout"
        },
        {
          "output_type": "execute_result",
          "data": {
            "text/html": [
              "<div>\n",
              "<style scoped>\n",
              "    .dataframe tbody tr th:only-of-type {\n",
              "        vertical-align: middle;\n",
              "    }\n",
              "\n",
              "    .dataframe tbody tr th {\n",
              "        vertical-align: top;\n",
              "    }\n",
              "\n",
              "    .dataframe thead th {\n",
              "        text-align: right;\n",
              "    }\n",
              "</style>\n",
              "<table border=\"1\" class=\"dataframe\">\n",
              "  <thead>\n",
              "    <tr style=\"text-align: right;\">\n",
              "      <th></th>\n",
              "      <th>molecule_chembl_id</th>\n",
              "      <th>IC50</th>\n",
              "      <th>units</th>\n",
              "      <th>smiles</th>\n",
              "      <th>pIC50</th>\n",
              "    </tr>\n",
              "  </thead>\n",
              "  <tbody>\n",
              "    <tr>\n",
              "      <th>0</th>\n",
              "      <td>CHEMBL63786</td>\n",
              "      <td>0.003</td>\n",
              "      <td>nM</td>\n",
              "      <td>Brc1cccc(Nc2ncnc3cc4ccccc4cc23)c1</td>\n",
              "      <td>11.522879</td>\n",
              "    </tr>\n",
              "    <tr>\n",
              "      <th>1</th>\n",
              "      <td>CHEMBL35820</td>\n",
              "      <td>0.006</td>\n",
              "      <td>nM</td>\n",
              "      <td>CCOc1cc2ncnc(Nc3cccc(Br)c3)c2cc1OCC</td>\n",
              "      <td>11.221849</td>\n",
              "    </tr>\n",
              "    <tr>\n",
              "      <th>2</th>\n",
              "      <td>CHEMBL53711</td>\n",
              "      <td>0.006</td>\n",
              "      <td>nM</td>\n",
              "      <td>CN(C)c1cc2c(Nc3cccc(Br)c3)ncnc2cn1</td>\n",
              "      <td>11.221849</td>\n",
              "    </tr>\n",
              "    <tr>\n",
              "      <th>3</th>\n",
              "      <td>CHEMBL53753</td>\n",
              "      <td>0.008</td>\n",
              "      <td>nM</td>\n",
              "      <td>CNc1cc2c(Nc3cccc(Br)c3)ncnc2cn1</td>\n",
              "      <td>11.096910</td>\n",
              "    </tr>\n",
              "    <tr>\n",
              "      <th>4</th>\n",
              "      <td>CHEMBL66031</td>\n",
              "      <td>0.008</td>\n",
              "      <td>nM</td>\n",
              "      <td>Brc1cccc(Nc2ncnc3cc4[nH]cnc4cc23)c1</td>\n",
              "      <td>11.096910</td>\n",
              "    </tr>\n",
              "  </tbody>\n",
              "</table>\n",
              "</div>"
            ],
            "text/plain": [
              "  molecule_chembl_id   IC50  ...                               smiles      pIC50\n",
              "0        CHEMBL63786  0.003  ...    Brc1cccc(Nc2ncnc3cc4ccccc4cc23)c1  11.522879\n",
              "1        CHEMBL35820  0.006  ...  CCOc1cc2ncnc(Nc3cccc(Br)c3)c2cc1OCC  11.221849\n",
              "2        CHEMBL53711  0.006  ...   CN(C)c1cc2c(Nc3cccc(Br)c3)ncnc2cn1  11.221849\n",
              "3        CHEMBL53753  0.008  ...      CNc1cc2c(Nc3cccc(Br)c3)ncnc2cn1  11.096910\n",
              "4        CHEMBL66031  0.008  ...  Brc1cccc(Nc2ncnc3cc4[nH]cnc4cc23)c1  11.096910\n",
              "\n",
              "[5 rows x 5 columns]"
            ]
          },
          "metadata": {},
          "execution_count": 36
        }
      ]
    },
    {
      "cell_type": "code",
      "metadata": {
        "colab": {
          "base_uri": "https://localhost:8080/",
          "height": 203
        },
        "id": "ThI3jJ7mCqg7",
        "outputId": "d62abb23-a96d-4cb9-f298-998391667a93"
      },
      "source": [
        "# This takes a couple of seconds\n",
        "ro5_properties = molecules[\"smiles\"].apply(calculate_ro5_properties)\n",
        "ro5_properties.head()"
      ],
      "execution_count": null,
      "outputs": [
        {
          "output_type": "execute_result",
          "data": {
            "text/html": [
              "<div>\n",
              "<style scoped>\n",
              "    .dataframe tbody tr th:only-of-type {\n",
              "        vertical-align: middle;\n",
              "    }\n",
              "\n",
              "    .dataframe tbody tr th {\n",
              "        vertical-align: top;\n",
              "    }\n",
              "\n",
              "    .dataframe thead th {\n",
              "        text-align: right;\n",
              "    }\n",
              "</style>\n",
              "<table border=\"1\" class=\"dataframe\">\n",
              "  <thead>\n",
              "    <tr style=\"text-align: right;\">\n",
              "      <th></th>\n",
              "      <th>molecular_weight</th>\n",
              "      <th>n_hba</th>\n",
              "      <th>n_hbd</th>\n",
              "      <th>logp</th>\n",
              "      <th>ro5_fulfilled</th>\n",
              "    </tr>\n",
              "  </thead>\n",
              "  <tbody>\n",
              "    <tr>\n",
              "      <th>0</th>\n",
              "      <td>349.021459</td>\n",
              "      <td>3</td>\n",
              "      <td>1</td>\n",
              "      <td>5.2891</td>\n",
              "      <td>True</td>\n",
              "    </tr>\n",
              "    <tr>\n",
              "      <th>1</th>\n",
              "      <td>387.058239</td>\n",
              "      <td>5</td>\n",
              "      <td>1</td>\n",
              "      <td>4.9333</td>\n",
              "      <td>True</td>\n",
              "    </tr>\n",
              "    <tr>\n",
              "      <th>2</th>\n",
              "      <td>343.043258</td>\n",
              "      <td>5</td>\n",
              "      <td>1</td>\n",
              "      <td>3.5969</td>\n",
              "      <td>True</td>\n",
              "    </tr>\n",
              "    <tr>\n",
              "      <th>3</th>\n",
              "      <td>329.027607</td>\n",
              "      <td>5</td>\n",
              "      <td>2</td>\n",
              "      <td>3.5726</td>\n",
              "      <td>True</td>\n",
              "    </tr>\n",
              "    <tr>\n",
              "      <th>4</th>\n",
              "      <td>339.011957</td>\n",
              "      <td>4</td>\n",
              "      <td>2</td>\n",
              "      <td>4.0122</td>\n",
              "      <td>True</td>\n",
              "    </tr>\n",
              "  </tbody>\n",
              "</table>\n",
              "</div>"
            ],
            "text/plain": [
              "   molecular_weight  n_hba  n_hbd    logp  ro5_fulfilled\n",
              "0        349.021459      3      1  5.2891           True\n",
              "1        387.058239      5      1  4.9333           True\n",
              "2        343.043258      5      1  3.5969           True\n",
              "3        329.027607      5      2  3.5726           True\n",
              "4        339.011957      4      2  4.0122           True"
            ]
          },
          "metadata": {},
          "execution_count": 37
        }
      ]
    },
    {
      "cell_type": "code",
      "metadata": {
        "id": "mYTCkl3TDddX"
      },
      "source": [],
      "execution_count": null,
      "outputs": []
    }
  ]
}